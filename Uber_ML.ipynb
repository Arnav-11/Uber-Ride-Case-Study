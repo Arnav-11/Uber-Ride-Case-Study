{
 "cells": [
  {
   "cell_type": "code",
   "execution_count": 23,
   "id": "24105bed-ae0b-42eb-a0a7-c9bcc0f57b80",
   "metadata": {},
   "outputs": [],
   "source": [
    "import pandas as pd\n",
    "from sklearn.model_selection import train_test_split, GridSearchCV\n",
    "from sklearn.preprocessing import OneHotEncoder\n",
    "from sklearn.compose import ColumnTransformer\n",
    "from sklearn.pipeline import Pipeline\n",
    "from sklearn.impute import SimpleImputer\n",
    "from sklearn.linear_model import LogisticRegression\n",
    "from xgboost import XGBClassifier\n",
    "from catboost import CatBoostClassifier\n",
    "from sklearn.metrics import classification_report, confusion_matrix, accuracy_score\n",
    "import seaborn as sns\n",
    "import matplotlib.pyplot as plt\n"
   ]
  },
  {
   "cell_type": "code",
   "execution_count": 22,
   "id": "f6d6f5a4-ad29-4e15-890d-15826cc1f23d",
   "metadata": {},
   "outputs": [
    {
     "name": "stdout",
     "output_type": "stream",
     "text": [
      "Collecting catboost\n",
      "  Downloading catboost-1.2.8-cp312-cp312-macosx_11_0_universal2.whl.metadata (1.4 kB)\n",
      "Collecting graphviz (from catboost)\n",
      "  Downloading graphviz-0.21-py3-none-any.whl.metadata (12 kB)\n",
      "Requirement already satisfied: matplotlib in ./Desktop/College/anaconda3/lib/python3.12/site-packages (from catboost) (3.8.4)\n",
      "Requirement already satisfied: numpy<3.0,>=1.16.0 in ./Desktop/College/anaconda3/lib/python3.12/site-packages (from catboost) (1.26.4)\n",
      "Requirement already satisfied: pandas>=0.24 in ./Desktop/College/anaconda3/lib/python3.12/site-packages (from catboost) (2.2.2)\n",
      "Requirement already satisfied: scipy in ./Desktop/College/anaconda3/lib/python3.12/site-packages (from catboost) (1.16.2)\n",
      "Requirement already satisfied: plotly in ./Desktop/College/anaconda3/lib/python3.12/site-packages (from catboost) (5.22.0)\n",
      "Requirement already satisfied: six in ./Desktop/College/anaconda3/lib/python3.12/site-packages (from catboost) (1.16.0)\n",
      "Requirement already satisfied: python-dateutil>=2.8.2 in ./Desktop/College/anaconda3/lib/python3.12/site-packages (from pandas>=0.24->catboost) (2.9.0.post0)\n",
      "Requirement already satisfied: pytz>=2020.1 in ./Desktop/College/anaconda3/lib/python3.12/site-packages (from pandas>=0.24->catboost) (2024.1)\n",
      "Requirement already satisfied: tzdata>=2022.7 in ./Desktop/College/anaconda3/lib/python3.12/site-packages (from pandas>=0.24->catboost) (2023.3)\n",
      "Requirement already satisfied: contourpy>=1.0.1 in ./Desktop/College/anaconda3/lib/python3.12/site-packages (from matplotlib->catboost) (1.2.0)\n",
      "Requirement already satisfied: cycler>=0.10 in ./Desktop/College/anaconda3/lib/python3.12/site-packages (from matplotlib->catboost) (0.11.0)\n",
      "Requirement already satisfied: fonttools>=4.22.0 in ./Desktop/College/anaconda3/lib/python3.12/site-packages (from matplotlib->catboost) (4.51.0)\n",
      "Requirement already satisfied: kiwisolver>=1.3.1 in ./Desktop/College/anaconda3/lib/python3.12/site-packages (from matplotlib->catboost) (1.4.4)\n",
      "Requirement already satisfied: packaging>=20.0 in ./Desktop/College/anaconda3/lib/python3.12/site-packages (from matplotlib->catboost) (23.2)\n",
      "Requirement already satisfied: pillow>=8 in ./Desktop/College/anaconda3/lib/python3.12/site-packages (from matplotlib->catboost) (10.3.0)\n",
      "Requirement already satisfied: pyparsing>=2.3.1 in ./Desktop/College/anaconda3/lib/python3.12/site-packages (from matplotlib->catboost) (3.0.9)\n",
      "Requirement already satisfied: tenacity>=6.2.0 in ./Desktop/College/anaconda3/lib/python3.12/site-packages (from plotly->catboost) (9.1.2)\n",
      "Downloading catboost-1.2.8-cp312-cp312-macosx_11_0_universal2.whl (27.8 MB)\n",
      "\u001b[2K   \u001b[90m━━━━━━━━━━━━━━━━━━━━━━━━━━━━━━━━━━━━━━━━\u001b[0m \u001b[32m27.8/27.8 MB\u001b[0m \u001b[31m2.4 MB/s\u001b[0m eta \u001b[36m0:00:00\u001b[0m00:01\u001b[0m00:01\u001b[0m\n",
      "\u001b[?25hDownloading graphviz-0.21-py3-none-any.whl (47 kB)\n",
      "\u001b[2K   \u001b[90m━━━━━━━━━━━━━━━━━━━━━━━━━━━━━━━━━━━━━━━━\u001b[0m \u001b[32m47.3/47.3 kB\u001b[0m \u001b[31m3.8 MB/s\u001b[0m eta \u001b[36m0:00:00\u001b[0m\n",
      "\u001b[?25hInstalling collected packages: graphviz, catboost\n",
      "Successfully installed catboost-1.2.8 graphviz-0.21\n",
      "Note: you may need to restart the kernel to use updated packages.\n"
     ]
    }
   ],
   "source": [
    "pip install catboost"
   ]
  },
  {
   "cell_type": "code",
   "execution_count": 2,
   "id": "133b93c8-8b22-4a86-a133-aea3dbb23cae",
   "metadata": {},
   "outputs": [
    {
     "name": "stdout",
     "output_type": "stream",
     "text": [
      "Collecting xgboost\n",
      "  Downloading xgboost-3.0.5-py3-none-macosx_12_0_arm64.whl.metadata (2.1 kB)\n",
      "Requirement already satisfied: numpy in ./Desktop/College/anaconda3/lib/python3.12/site-packages (from xgboost) (1.26.4)\n",
      "Requirement already satisfied: scipy in ./Desktop/College/anaconda3/lib/python3.12/site-packages (from xgboost) (1.16.2)\n",
      "Downloading xgboost-3.0.5-py3-none-macosx_12_0_arm64.whl (2.0 MB)\n",
      "\u001b[2K   \u001b[90m━━━━━━━━━━━━━━━━━━━━━━━━━━━━━━━━━━━━━━━━\u001b[0m \u001b[32m2.0/2.0 MB\u001b[0m \u001b[31m20.5 MB/s\u001b[0m eta \u001b[36m0:00:00\u001b[0ma \u001b[36m0:00:01\u001b[0m\n",
      "\u001b[?25hInstalling collected packages: xgboost\n",
      "Successfully installed xgboost-3.0.5\n",
      "Note: you may need to restart the kernel to use updated packages.\n"
     ]
    }
   ],
   "source": [
    "pip install xgboost"
   ]
  },
  {
   "cell_type": "code",
   "execution_count": 4,
   "id": "670b3488-fd01-4120-934b-240251453683",
   "metadata": {},
   "outputs": [],
   "source": [
    "path = '/Users/arnavbhatnagar/Downloads/Uber Dataset/dataset.csv'\n",
    "df = pd.read_csv(path)"
   ]
  },
  {
   "cell_type": "code",
   "execution_count": 5,
   "id": "958f5493-13c6-4497-8d67-21d9e4787588",
   "metadata": {},
   "outputs": [
    {
     "name": "stdout",
     "output_type": "stream",
     "text": [
      "Data loaded and initial cleaning complete.\n"
     ]
    }
   ],
   "source": [
    "# Perform the same initial cleaning as in the EDA\n",
    "df['booking_datetime'] = pd.to_datetime(df['Date'] + ' ' + df['Time'], errors='coerce')\n",
    "df.dropna(subset=['booking_datetime'], inplace=True)\n",
    "print(\"Data loaded and initial cleaning complete.\")"
   ]
  },
  {
   "cell_type": "code",
   "execution_count": 6,
   "id": "1a891702-5288-42ca-b10b-1fcafb8a796c",
   "metadata": {},
   "outputs": [
    {
     "name": "stdout",
     "output_type": "stream",
     "text": [
      "--- Performing feature engineering... ---\n",
      "Features selected for modeling: ['Vehicle Type', 'Pickup Location', 'Drop Location', 'Payment Method', 'hour_of_day', 'day_of_week']\n",
      "Target variable 'target' created. Distribution:\n",
      "target\n",
      "1    0.62\n",
      "0    0.38\n",
      "Name: proportion, dtype: float64\n"
     ]
    }
   ],
   "source": [
    "# --- 2. Feature Engineering and Target Variable Creation ---\n",
    "print(\"--- Performing feature engineering... ---\")\n",
    "\n",
    "# Create the target variable: 1 for 'Completed', 0 for 'Not Completed'\n",
    "df['target'] = df['Booking Status'].apply(lambda x: 1 if x == 'Completed' else 0)\n",
    "\n",
    "# Extract time-based features from the datetime column\n",
    "df['hour_of_day'] = df['booking_datetime'].dt.hour\n",
    "df['day_of_week'] = df['booking_datetime'].dt.dayofweek # Monday=0, Sunday=6\n",
    "\n",
    "# Select features for the model\n",
    "# We exclude IDs, the original status column, datetime, and post-ride info like ratings/distance/value\n",
    "features = [\n",
    "    'Vehicle Type', 'Pickup Location', 'Drop Location', 'Payment Method',\n",
    "    'hour_of_day', 'day_of_week'\n",
    "]\n",
    "X = df[features]\n",
    "y = df['target']\n",
    "\n",
    "print(f\"Features selected for modeling: {features}\")\n",
    "print(f\"Target variable 'target' created. Distribution:\\n{y.value_counts(normalize=True)}\")\n"
   ]
  },
  {
   "cell_type": "code",
   "execution_count": 7,
   "id": "3dc9fd7e-c847-47f4-ae85-9a371632f1b0",
   "metadata": {},
   "outputs": [
    {
     "name": "stdout",
     "output_type": "stream",
     "text": [
      "--- Setting up preprocessing pipeline... ---\n"
     ]
    },
    {
     "name": "stderr",
     "output_type": "stream",
     "text": [
      "/var/folders/zh/svd6hw515sqbb0b_8jcwb7vr0000gn/T/ipykernel_69496/2835088843.py:11: SettingWithCopyWarning: \n",
      "A value is trying to be set on a copy of a slice from a DataFrame.\n",
      "Try using .loc[row_indexer,col_indexer] = value instead\n",
      "\n",
      "See the caveats in the documentation: https://pandas.pydata.org/pandas-docs/stable/user_guide/indexing.html#returning-a-view-versus-a-copy\n",
      "  X[col] = X[col].where(X[col].isin(top_10), 'Other')\n",
      "/var/folders/zh/svd6hw515sqbb0b_8jcwb7vr0000gn/T/ipykernel_69496/2835088843.py:11: SettingWithCopyWarning: \n",
      "A value is trying to be set on a copy of a slice from a DataFrame.\n",
      "Try using .loc[row_indexer,col_indexer] = value instead\n",
      "\n",
      "See the caveats in the documentation: https://pandas.pydata.org/pandas-docs/stable/user_guide/indexing.html#returning-a-view-versus-a-copy\n",
      "  X[col] = X[col].where(X[col].isin(top_10), 'Other')\n"
     ]
    }
   ],
   "source": [
    "# --- 3. Preprocessing ---\n",
    "print(\"--- Setting up preprocessing pipeline... ---\")\n",
    "\n",
    "# Identify categorical and numerical features\n",
    "categorical_features = ['Vehicle Type', 'Pickup Location', 'Drop Location', 'Payment Method', 'day_of_week']\n",
    "numerical_features = ['hour_of_day']\n",
    "\n",
    "# To handle high cardinality in location features, we'll group infrequent categories\n",
    "for col in ['Pickup Location', 'Drop Location']:\n",
    "    top_10 = X[col].value_counts().nlargest(10).index\n",
    "    X[col] = X[col].where(X[col].isin(top_10), 'Other')\n",
    "\n",
    "# Create a preprocessing pipeline\n",
    "# This pipeline handles missing values and scales/encodes features automatically\n",
    "preprocessor = ColumnTransformer(\n",
    "    transformers=[\n",
    "        ('num', SimpleImputer(strategy='median'), numerical_features),\n",
    "        ('cat', Pipeline(steps=[\n",
    "            ('imputer', SimpleImputer(strategy='most_frequent')),\n",
    "            ('onehot', OneHotEncoder(handle_unknown='ignore'))\n",
    "        ]), categorical_features)\n",
    "    ])\n"
   ]
  },
  {
   "cell_type": "code",
   "execution_count": 8,
   "id": "7e158c82-7f6c-4d4b-ba26-8239e5b2b4fe",
   "metadata": {},
   "outputs": [
    {
     "name": "stdout",
     "output_type": "stream",
     "text": [
      "--- Splitting data into training and testing sets... ---\n",
      "Training set size: 120000 samples\n",
      "Testing set size: 30000 samples\n"
     ]
    }
   ],
   "source": [
    "# --- 4. Data Splitting ---\n",
    "print(\"--- Splitting data into training and testing sets... ---\")\n",
    "X_train, X_test, y_train, y_test = train_test_split(X, y, test_size=0.2, random_state=42, stratify=y)\n",
    "print(f\"Training set size: {X_train.shape[0]} samples\")\n",
    "print(f\"Testing set size: {X_test.shape[0]} samples\")\n"
   ]
  },
  {
   "cell_type": "code",
   "execution_count": 9,
   "id": "db0d11ec-d7a8-4742-853d-6ccdb145a5f7",
   "metadata": {},
   "outputs": [
    {
     "name": "stdout",
     "output_type": "stream",
     "text": [
      "\n",
      "--- Training Logistic Regression Model... ---\n",
      "--- Logistic Regression Evaluation ---\n",
      "Accuracy: 0.6914666666666667\n",
      "\n",
      "Classification Report:\n",
      "               precision    recall  f1-score   support\n",
      "\n",
      "           0       0.56      0.91      0.69     11400\n",
      "           1       0.91      0.56      0.69     18600\n",
      "\n",
      "    accuracy                           0.69     30000\n",
      "   macro avg       0.73      0.73      0.69     30000\n",
      "weighted avg       0.78      0.69      0.69     30000\n",
      "\n"
     ]
    }
   ],
   "source": [
    "# --- 5. Model Training and Evaluation ---\n",
    "\n",
    "# --- Model 1: Logistic Regression (Baseline) ---\n",
    "print(\"\\n--- Training Logistic Regression Model... ---\")\n",
    "lr_pipeline = Pipeline(steps=[('preprocessor', preprocessor),\n",
    "                              ('classifier', LogisticRegression(max_iter=1000, random_state=42))])\n",
    "\n",
    "lr_pipeline.fit(X_train, y_train)\n",
    "y_pred_lr = lr_pipeline.predict(X_test)\n",
    "\n",
    "print(\"--- Logistic Regression Evaluation ---\")\n",
    "print(\"Accuracy:\", accuracy_score(y_test, y_pred_lr))\n",
    "print(\"\\nClassification Report:\\n\", classification_report(y_test, y_pred_lr))\n"
   ]
  },
  {
   "cell_type": "code",
   "execution_count": 10,
   "id": "3e2af42b-c1f8-480d-bf0b-c356cb4e8a6e",
   "metadata": {},
   "outputs": [
    {
     "data": {
      "image/png": "[encoded data removed]",
      "text/plain": [
       "<Figure size 600x400 with 2 Axes>"
      ]
     },
     "metadata": {},
     "output_type": "display_data"
    }
   ],
   "source": [
    "# Plot Confusion Matrix\n",
    "cm_lr = confusion_matrix(y_test, y_pred_lr)\n",
    "plt.figure(figsize=(6, 4))\n",
    "sns.heatmap(cm_lr, annot=True, fmt='d', cmap='Blues', xticklabels=['Not Completed', 'Completed'], yticklabels=['Not Completed', 'Completed'])\n",
    "plt.title('Logistic Regression Confusion Matrix')\n",
    "plt.ylabel('Actual')\n",
    "plt.xlabel('Predicted')\n",
    "plt.show()"
   ]
  },
  {
   "cell_type": "code",
   "execution_count": 15,
   "id": "2210cdfc-6112-45e0-85e3-905e8a052945",
   "metadata": {},
   "outputs": [
    {
     "name": "stdout",
     "output_type": "stream",
     "text": [
      "\n",
      "--- Setting up Tuned XGBoost Classifier... ---\n",
      "Calculated scale_pos_weight for XGBoost: 0.61\n"
     ]
    }
   ],
   "source": [
    "# --- Model 2: XGBoost Classifier (Tuned and Optimized) ---\n",
    "print(\"\\n--- Setting up Tuned XGBoost Classifier... ---\")\n",
    "\n",
    "# Calculate scale_pos_weight for handling class imbalance\n",
    "scale_pos_weight = y_train.value_counts()[0] / y_train.value_counts()[1]\n",
    "print(f\"Calculated scale_pos_weight for XGBoost: {scale_pos_weight:.2f}\")\n",
    "\n",
    "# Create the XGBoost pipeline\n",
    "xgb_pipeline_tuned = Pipeline(steps=[\n",
    "    ('preprocessor', preprocessor),\n",
    "    ('classifier', XGBClassifier(use_label_encoder=False,\n",
    "                                 eval_metric='logloss',\n",
    "                                 scale_pos_weight=scale_pos_weight, # Address imbalance\n",
    "                                 random_state=42))\n",
    "])\n",
    "\n",
    "# Define a smaller parameter grid for GridSearchCV to find the best settings\n",
    "# This grid is intentionally small to ensure the script runs in a reasonable time.\n",
    "param_grid = {\n",
    "    'classifier__n_estimators': [100, 200],\n",
    "    'classifier__max_depth': [5, 7],\n",
    "    'classifier__learning_rate': [0.1],\n",
    "    'classifier__colsample_bytree': [0.8]\n",
    "}"
   ]
  },
  {
   "cell_type": "code",
   "execution_count": 16,
   "id": "bfb2e37d-9dc8-454b-b797-c2f324afae98",
   "metadata": {},
   "outputs": [
    {
     "name": "stdout",
     "output_type": "stream",
     "text": [
      "\n",
      "--- Training and Tuning XGBoost Classifier with GridSearchCV... ---\n"
     ]
    }
   ],
   "source": [
    "# Set up GridSearchCV to automate hyperparameter tuning\n",
    "grid_search = GridSearchCV(estimator=xgb_pipeline_tuned,\n",
    "                           param_grid=param_grid,\n",
    "                           cv=3, # 3-fold cross-validation\n",
    "                           scoring='accuracy',\n",
    "                           verbose=2, # Shows progress\n",
    "                           n_jobs=-1) # Use all available CPU cores\n",
    "\n",
    "print(\"\\n--- Training and Tuning XGBoost Classifier with GridSearchCV... ---\")"
   ]
  },
  {
   "cell_type": "code",
   "execution_count": 17,
   "id": "65c105e4-96a7-4491-bb38-81e041ce6c00",
   "metadata": {},
   "outputs": [
    {
     "name": "stdout",
     "output_type": "stream",
     "text": [
      "Fitting 3 folds for each of 4 candidates, totalling 12 fits\n"
     ]
    },
    {
     "name": "stderr",
     "output_type": "stream",
     "text": [
      "/Users/arnavbhatnagar/Desktop/College/anaconda3/lib/python3.12/site-packages/xgboost/training.py:183: UserWarning: [23:33:56] WARNING: /Users/runner/work/xgboost/xgboost/src/learner.cc:738: \n",
      "Parameters: { \"use_label_encoder\" } are not used.\n",
      "\n",
      "  bst.update(dtrain, iteration=i, fobj=obj)\n",
      "/Users/arnavbhatnagar/Desktop/College/anaconda3/lib/python3.12/site-packages/xgboost/training.py:183: UserWarning: [23:33:56] WARNING: /Users/runner/work/xgboost/xgboost/src/learner.cc:738: \n",
      "Parameters: { \"use_label_encoder\" } are not used.\n",
      "\n",
      "  bst.update(dtrain, iteration=i, fobj=obj)\n",
      "/Users/arnavbhatnagar/Desktop/College/anaconda3/lib/python3.12/site-packages/xgboost/training.py:183: UserWarning: [23:33:56] WARNING: /Users/runner/work/xgboost/xgboost/src/learner.cc:738: \n",
      "Parameters: { \"use_label_encoder\" } are not used.\n",
      "\n",
      "  bst.update(dtrain, iteration=i, fobj=obj)\n",
      "/Users/arnavbhatnagar/Desktop/College/anaconda3/lib/python3.12/site-packages/xgboost/training.py:183: UserWarning: [23:33:56] WARNING: /Users/runner/work/xgboost/xgboost/src/learner.cc:738: \n",
      "Parameters: { \"use_label_encoder\" } are not used.\n",
      "\n",
      "  bst.update(dtrain, iteration=i, fobj=obj)\n",
      "/Users/arnavbhatnagar/Desktop/College/anaconda3/lib/python3.12/site-packages/xgboost/training.py:183: UserWarning: [23:33:56] WARNING: /Users/runner/work/xgboost/xgboost/src/learner.cc:738: \n",
      "Parameters: { \"use_label_encoder\" } are not used.\n",
      "\n",
      "  bst.update(dtrain, iteration=i, fobj=obj)\n",
      "/Users/arnavbhatnagar/Desktop/College/anaconda3/lib/python3.12/site-packages/xgboost/training.py:183: UserWarning: [23:33:56] WARNING: /Users/runner/work/xgboost/xgboost/src/learner.cc:738: \n",
      "Parameters: { \"use_label_encoder\" } are not used.\n",
      "\n",
      "  bst.update(dtrain, iteration=i, fobj=obj)\n",
      "/Users/arnavbhatnagar/Desktop/College/anaconda3/lib/python3.12/site-packages/xgboost/training.py:183: UserWarning: [23:33:56] WARNING: /Users/runner/work/xgboost/xgboost/src/learner.cc:738: \n",
      "Parameters: { \"use_label_encoder\" } are not used.\n",
      "\n",
      "  bst.update(dtrain, iteration=i, fobj=obj)\n",
      "/Users/arnavbhatnagar/Desktop/College/anaconda3/lib/python3.12/site-packages/xgboost/training.py:183: UserWarning: [23:33:56] WARNING: /Users/runner/work/xgboost/xgboost/src/learner.cc:738: \n",
      "Parameters: { \"use_label_encoder\" } are not used.\n",
      "\n",
      "  bst.update(dtrain, iteration=i, fobj=obj)\n",
      "/Users/arnavbhatnagar/Desktop/College/anaconda3/lib/python3.12/site-packages/xgboost/training.py:183: UserWarning: [23:33:57] WARNING: /Users/runner/work/xgboost/xgboost/src/learner.cc:738: \n",
      "Parameters: { \"use_label_encoder\" } are not used.\n",
      "\n",
      "  bst.update(dtrain, iteration=i, fobj=obj)\n",
      "/Users/arnavbhatnagar/Desktop/College/anaconda3/lib/python3.12/site-packages/xgboost/training.py:183: UserWarning: [23:33:57] WARNING: /Users/runner/work/xgboost/xgboost/src/learner.cc:738: \n",
      "Parameters: { \"use_label_encoder\" } are not used.\n",
      "\n",
      "  bst.update(dtrain, iteration=i, fobj=obj)\n",
      "/Users/arnavbhatnagar/Desktop/College/anaconda3/lib/python3.12/site-packages/xgboost/training.py:183: UserWarning: [23:33:57] WARNING: /Users/runner/work/xgboost/xgboost/src/learner.cc:738: \n",
      "Parameters: { \"use_label_encoder\" } are not used.\n",
      "\n",
      "  bst.update(dtrain, iteration=i, fobj=obj)\n",
      "/Users/arnavbhatnagar/Desktop/College/anaconda3/lib/python3.12/site-packages/xgboost/training.py:183: UserWarning: [23:33:58] WARNING: /Users/runner/work/xgboost/xgboost/src/learner.cc:738: \n",
      "Parameters: { \"use_label_encoder\" } are not used.\n",
      "\n",
      "  bst.update(dtrain, iteration=i, fobj=obj)\n"
     ]
    },
    {
     "name": "stdout",
     "output_type": "stream",
     "text": [
      "\n",
      "Best parameters found: {'classifier__colsample_bytree': 0.8, 'classifier__learning_rate': 0.1, 'classifier__max_depth': 5, 'classifier__n_estimators': 100}\n"
     ]
    },
    {
     "name": "stderr",
     "output_type": "stream",
     "text": [
      "/Users/arnavbhatnagar/Desktop/College/anaconda3/lib/python3.12/site-packages/xgboost/training.py:183: UserWarning: [23:33:59] WARNING: /Users/runner/work/xgboost/xgboost/src/learner.cc:738: \n",
      "Parameters: { \"use_label_encoder\" } are not used.\n",
      "\n",
      "  bst.update(dtrain, iteration=i, fobj=obj)\n"
     ]
    }
   ],
   "source": [
    "grid_search.fit(X_train, y_train)\n",
    "\n",
    "print(f\"\\nBest parameters found: {grid_search.best_params_}\")"
   ]
  },
  {
   "cell_type": "code",
   "execution_count": 18,
   "id": "3380a43c-fe39-4d4c-b75d-4413cd550c0e",
   "metadata": {},
   "outputs": [],
   "source": [
    "best_xgb_model = grid_search.best_estimator_\n",
    "y_pred_xgb = best_xgb_model.predict(X_test)"
   ]
  },
  {
   "cell_type": "code",
   "execution_count": 19,
   "id": "852bd62b-3c60-448a-b94d-b5f2f5660da1",
   "metadata": {},
   "outputs": [
    {
     "name": "stdout",
     "output_type": "stream",
     "text": [
      "\n",
      "--- Tuned XGBoost Classifier Evaluation ---\n",
      "Accuracy: 0.6918\n",
      "\n",
      "Classification Report:\n",
      "               precision    recall  f1-score   support\n",
      "\n",
      "           0       0.56      0.91      0.69     11400\n",
      "           1       0.91      0.56      0.69     18600\n",
      "\n",
      "    accuracy                           0.69     30000\n",
      "   macro avg       0.73      0.73      0.69     30000\n",
      "weighted avg       0.78      0.69      0.69     30000\n",
      "\n"
     ]
    }
   ],
   "source": [
    "print(\"\\n--- Tuned XGBoost Classifier Evaluation ---\")\n",
    "print(\"Accuracy:\", accuracy_score(y_test, y_pred_xgb))\n",
    "print(\"\\nClassification Report:\\n\", classification_report(y_test, y_pred_xgb))"
   ]
  },
  {
   "cell_type": "code",
   "execution_count": 20,
   "id": "aae4f467-0ad1-4b57-961f-119fdbdd2a30",
   "metadata": {},
   "outputs": [
    {
     "data": {
      "image/png": "[encoded data removed]",
      "text/plain": [
       "<Figure size 600x400 with 2 Axes>"
      ]
     },
     "metadata": {},
     "output_type": "display_data"
    },
    {
     "name": "stdout",
     "output_type": "stream",
     "text": [
      "\n",
      "--- ML Modeling Complete ---\n"
     ]
    }
   ],
   "source": [
    "# Plot Confusion Matrix for the tuned model\n",
    "cm_xgb = confusion_matrix(y_test, y_pred_xgb)\n",
    "plt.figure(figsize=(6, 4))\n",
    "sns.heatmap(cm_xgb, annot=True, fmt='d', cmap='Greens', xticklabels=['Not Completed', 'Completed'], yticklabels=['Not Completed', 'Completed'])\n",
    "plt.title('Tuned XGBoost Classifier Confusion Matrix')\n",
    "plt.ylabel('Actual')\n",
    "plt.xlabel('Predicted')\n",
    "plt.show()\n",
    "\n",
    "print(\"\\n--- ML Modeling Complete ---\")"
   ]
  },
  {
   "cell_type": "code",
   "execution_count": null,
   "id": "558e6432-fb26-4f11-b4c4-e4901df97db4",
   "metadata": {},
   "outputs": [],
   "source": [
    "# Catboosting"
   ]
  },
  {
   "cell_type": "code",
   "execution_count": 35,
   "id": "54f85435-846f-4d3c-8192-e1e7c51695bf",
   "metadata": {},
   "outputs": [],
   "source": [
    "X_train_cat = X_train.copy()\n",
    "X_test_cat = X_test.copy()\n"
   ]
  },
  {
   "cell_type": "code",
   "execution_count": 37,
   "id": "10102418-69fd-4bd9-a1f0-a020098e468d",
   "metadata": {},
   "outputs": [],
   "source": [
    "for col in categorical_features:\n",
    "    X_train_cat[col] = X_train_cat[col].astype('object')\n",
    "    X_test_cat[col] = X_test_cat[col].astype('object')"
   ]
  },
  {
   "cell_type": "code",
   "execution_count": 38,
   "id": "7a0f249a-791a-4c54-86f0-acc838a390e5",
   "metadata": {},
   "outputs": [
    {
     "name": "stderr",
     "output_type": "stream",
     "text": [
      "/var/folders/zh/svd6hw515sqbb0b_8jcwb7vr0000gn/T/ipykernel_69496/53043019.py:2: FutureWarning: A value is trying to be set on a copy of a DataFrame or Series through chained assignment using an inplace method.\n",
      "The behavior will change in pandas 3.0. This inplace method will never work because the intermediate object on which we are setting values always behaves as a copy.\n",
      "\n",
      "For example, when doing 'df[col].method(value, inplace=True)', try using 'df.method({col: value}, inplace=True)' or df[col] = df[col].method(value) instead, to perform the operation inplace on the original object.\n",
      "\n",
      "\n",
      "  X_train_cat[col].fillna('Unknown', inplace=True)\n",
      "/var/folders/zh/svd6hw515sqbb0b_8jcwb7vr0000gn/T/ipykernel_69496/53043019.py:3: FutureWarning: A value is trying to be set on a copy of a DataFrame or Series through chained assignment using an inplace method.\n",
      "The behavior will change in pandas 3.0. This inplace method will never work because the intermediate object on which we are setting values always behaves as a copy.\n",
      "\n",
      "For example, when doing 'df[col].method(value, inplace=True)', try using 'df.method({col: value}, inplace=True)' or df[col] = df[col].method(value) instead, to perform the operation inplace on the original object.\n",
      "\n",
      "\n",
      "  X_test_cat[col].fillna('Unknown', inplace=True)\n"
     ]
    }
   ],
   "source": [
    "for col in categorical_features:\n",
    "    X_train_cat[col].fillna('Unknown', inplace=True)\n",
    "    X_test_cat[col].fillna('Unknown', inplace=True)\n"
   ]
  },
  {
   "cell_type": "code",
   "execution_count": 39,
   "id": "02781080-0864-4caa-8347-5e8820ded655",
   "metadata": {},
   "outputs": [],
   "source": [
    "for col in numerical_features:\n",
    "    median_val = X_train_cat[col].median()\n",
    "    X_train_cat[col] = X_train_cat[col].fillna(median_val)\n",
    "    X_test_cat[col] = X_test_cat[col].fillna(median_val)\n"
   ]
  },
  {
   "cell_type": "code",
   "execution_count": 40,
   "id": "eaea7469-954b-44b2-9026-986348d812b5",
   "metadata": {},
   "outputs": [],
   "source": [
    "cat_model = CatBoostClassifier(\n",
    "    cat_features=categorical_features,\n",
    "    auto_class_weights='Balanced', # Handles class imbalance\n",
    "    random_state=42,\n",
    "    verbose=0 # Suppress training output for a cleaner log\n",
    ")\n"
   ]
  },
  {
   "cell_type": "code",
   "execution_count": 41,
   "id": "3940958d-70c0-417c-8bdb-2d87dc27fb04",
   "metadata": {},
   "outputs": [],
   "source": [
    "cat_model.fit(X_train_cat, y_train)\n",
    "y_pred_cat = cat_model.predict(X_test_cat)"
   ]
  },
  {
   "cell_type": "code",
   "execution_count": 42,
   "id": "a6b86630-f7b9-4b35-8c20-87f299239c15",
   "metadata": {},
   "outputs": [
    {
     "name": "stdout",
     "output_type": "stream",
     "text": [
      "--- CatBoost Classifier Evaluation ---\n",
      "Accuracy: 0.9379\n",
      "\n",
      "Classification Report:\n",
      "               precision    recall  f1-score   support\n",
      "\n",
      "           0       1.00      0.84      0.91     11400\n",
      "           1       0.91      1.00      0.95     18600\n",
      "\n",
      "    accuracy                           0.94     30000\n",
      "   macro avg       0.95      0.92      0.93     30000\n",
      "weighted avg       0.94      0.94      0.94     30000\n",
      "\n"
     ]
    }
   ],
   "source": [
    "print(\"--- CatBoost Classifier Evaluation ---\")\n",
    "print(\"Accuracy:\", accuracy_score(y_test, y_pred_cat))\n",
    "print(\"\\nClassification Report:\\n\", classification_report(y_test, y_pred_cat))"
   ]
  },
  {
   "cell_type": "code",
   "execution_count": 43,
   "id": "f664fbc6-9d2f-43d4-a4f7-19b335b9f3eb",
   "metadata": {},
   "outputs": [
    {
     "data": {
      "image/png": "[encoded data removed]",
      "text/plain": [
       "<Figure size 600x400 with 2 Axes>"
      ]
     },
     "metadata": {},
     "output_type": "display_data"
    },
    {
     "name": "stdout",
     "output_type": "stream",
     "text": [
      "\n",
      "--- ML Modeling Complete ---\n"
     ]
    }
   ],
   "source": [
    "# Plot Confusion Matrix\n",
    "cm_cat = confusion_matrix(y_test, y_pred_cat)\n",
    "plt.figure(figsize=(6, 4))\n",
    "sns.heatmap(cm_cat, annot=True, fmt='d', cmap='YlGnBu', xticklabels=['Not Completed', 'Completed'], yticklabels=['Not Completed', 'Completed'])\n",
    "plt.title('CatBoost Classifier Confusion Matrix')\n",
    "plt.ylabel('Actual')\n",
    "plt.xlabel('Predicted')\n",
    "plt.show()\n",
    "\n",
    "print(\"\\n--- ML Modeling Complete ---\")\n"
   ]
  },
  {
   "cell_type": "code",
   "execution_count": 45,
   "id": "0fe4f59d-33d6-4793-8c80-4af9e43b7082",
   "metadata": {},
   "outputs": [
    {
     "name": "stdout",
     "output_type": "stream",
     "text": [
      "\n",
      "--- Testing Model on Hypothetical Scenarios ---\n",
      "\n",
      "New ride scenarios to predict:\n",
      "  Vehicle Type Pickup Location    Drop Location Payment Method  hour_of_day  \\\n",
      "0         Auto      Karol Bagh  Vishwavidyalaya            UPI           14   \n",
      "1     Go Sedan     Nehru Place        Aya Nagar           Cash           18   \n",
      "2        eBike     Palam Vihar          Jhilmil     Debit Card           12   \n",
      "\n",
      "   day_of_week  \n",
      "0            5  \n",
      "1            2  \n",
      "2            5  \n",
      "\n",
      "--- Prediction Results ---\n",
      "Scenario 1: The model predicts the ride will be 'Completed' with 97.87% confidence.\n",
      "Scenario 2: The model predicts the ride will be 'Completed' with 98.87% confidence.\n",
      "Scenario 3: The model predicts the ride will be 'Completed' with 99.65% confidence.\n",
      "\n",
      "--- ML Modeling Complete ---\n"
     ]
    },
    {
     "name": "stderr",
     "output_type": "stream",
     "text": [
      "/var/folders/zh/svd6hw515sqbb0b_8jcwb7vr0000gn/T/ipykernel_69496/3414631421.py:20: FutureWarning: Downcasting object dtype arrays on .fillna, .ffill, .bfill is deprecated and will change in a future version. Call result.infer_objects(copy=False) instead. To opt-in to the future behavior, set `pd.set_option('future.no_silent_downcasting', True)`\n",
      "  new_rides[col] = new_rides[col].astype('object').fillna('Unknown')\n"
     ]
    }
   ],
   "source": [
    "\n",
    "# --- 6. Prediction on New/Hypothetical Data ---\n",
    "print(\"\\n--- Testing Model on Hypothetical Scenarios ---\")\n",
    "\n",
    "# Create a few example ride scenarios\n",
    "new_rides = pd.DataFrame({\n",
    "    'Vehicle Type': ['Auto', 'Go Sedan', 'eBike'],\n",
    "    'Pickup Location': ['Karol Bagh', 'Nehru Place', 'Palam Vihar'],\n",
    "    'Drop Location': ['Vishwavidyalaya', 'Aya Nagar', 'Jhilmil'],\n",
    "    'Payment Method': ['UPI', 'Cash', 'Debit Card'],\n",
    "    'hour_of_day': [14, 18, 12], # Afternoon, Evening, Mid-day\n",
    "    'day_of_week': [5, 2, 5] # Saturday, Wednesday, Saturday\n",
    "})\n",
    "\n",
    "print(\"\\nNew ride scenarios to predict:\")\n",
    "print(new_rides)\n",
    "\n",
    "for col in categorical_features:\n",
    "    new_rides[col] = new_rides[col].astype('object').fillna('Unknown')\n",
    "for col in numerical_features:\n",
    "    median_val = X_train_cat[col].median()\n",
    "    new_rides[col] = new_rides[col].fillna(median_val)\n",
    "\n",
    "\n",
    "# Use the trained CatBoost model to make predictions\n",
    "predictions = cat_model.predict(new_rides)\n",
    "prediction_proba = cat_model.predict_proba(new_rides)\n",
    "\n",
    "# Display the results\n",
    "print(\"\\n--- Prediction Results ---\")\n",
    "for i, prediction in enumerate(predictions):\n",
    "    status = \"Completed\" if prediction == 1 else \"Not Completed\"\n",
    "    confidence = prediction_proba[i][prediction] * 100\n",
    "    print(f\"Scenario {i+1}: The model predicts the ride will be '{status}' with {confidence:.2f}% confidence.\")\n",
    "\n",
    "\n",
    "print(\"\\n--- ML Modeling Complete ---\")\n",
    "\n"
   ]
  }
 ],
 "metadata": {
  "kernelspec": {
   "display_name": "Python 3 (ipykernel)",
   "language": "python",
   "name": "python3"
  },
  "language_info": {
   "codemirror_mode": {
    "name": "ipython",
    "version": 3
   },
   "file_extension": ".py",
   "mimetype": "text/x-python",
   "name": "python",
   "nbconvert_exporter": "python",
   "pygments_lexer": "ipython3",
   "version": "3.12.4"
  }
 },
 "nbformat": 4,
 "nbformat_minor": 5
}
